{
 "cells": [
  {
   "cell_type": "code",
   "execution_count": 1,
   "id": "2466447e",
   "metadata": {},
   "outputs": [],
   "source": [
    "import torch\n",
    "import torch.nn as nn\n",
    "import torchvision.datasets as dsets\n",
    "import torchvision.transforms as transforms\n",
    "from torch.autograd import Variable"
   ]
  },
  {
   "cell_type": "code",
   "execution_count": 2,
   "id": "cad3bb65",
   "metadata": {},
   "outputs": [],
   "source": [
    "# Hyper Parameters \n",
    "input_size = 784\n",
    "num_classes = 10\n",
    "num_epochs = 5\n",
    "batch_size = 100\n",
    "learning_rate = 0.001"
   ]
  },
  {
   "cell_type": "code",
   "execution_count": 3,
   "id": "186a712a",
   "metadata": {},
   "outputs": [],
   "source": [
    "# MNIST Dataset (Images and Labels)\n",
    "train_dataset = dsets.MNIST(root ='./data', \n",
    "                            train = True, \n",
    "                            transform = transforms.ToTensor(),\n",
    "                            download = True)\n",
    "  \n",
    "test_dataset = dsets.MNIST(root ='./data', \n",
    "                           train = False, \n",
    "                           transform = transforms.ToTensor())\n",
    "  \n",
    "# Dataset Loader (Input Pipeline)\n",
    "train_loader = torch.utils.data.DataLoader(dataset = train_dataset, \n",
    "                                           batch_size = batch_size, \n",
    "                                           shuffle = True)\n",
    "  \n",
    "test_loader = torch.utils.data.DataLoader(dataset = test_dataset, \n",
    "                                          batch_size = batch_size, \n",
    "                                          shuffle = False)"
   ]
  },
  {
   "cell_type": "code",
   "execution_count": 4,
   "id": "1e231417",
   "metadata": {},
   "outputs": [],
   "source": [
    "class LogisticRegression(nn.Module):\n",
    "    def __init__(self, input_size, num_classes):\n",
    "        super(LogisticRegression, self).__init__()\n",
    "        self.linear = nn.Linear(input_size, num_classes)\n",
    "  \n",
    "    def forward(self, x):\n",
    "        out = self.linear(x)\n",
    "        return out"
   ]
  },
  {
   "cell_type": "code",
   "execution_count": 5,
   "id": "50a56266",
   "metadata": {},
   "outputs": [],
   "source": [
    "model = LogisticRegression(input_size, num_classes)"
   ]
  },
  {
   "cell_type": "code",
   "execution_count": 6,
   "id": "8e30c530",
   "metadata": {},
   "outputs": [],
   "source": [
    "criterion = nn.CrossEntropyLoss()\n",
    "optimizer = torch.optim.SGD(model.parameters(), lr = learning_rate)"
   ]
  },
  {
   "cell_type": "code",
   "execution_count": 7,
   "id": "172ee898",
   "metadata": {},
   "outputs": [
    {
     "name": "stdout",
     "output_type": "stream",
     "text": [
      "Epoch: [ 1/ 5], Step: [ 100/ 600], Loss: 2.2460\n",
      "Epoch: [ 1/ 5], Step: [ 200/ 600], Loss: 2.1877\n",
      "Epoch: [ 1/ 5], Step: [ 300/ 600], Loss: 2.0385\n",
      "Epoch: [ 1/ 5], Step: [ 400/ 600], Loss: 1.9878\n",
      "Epoch: [ 1/ 5], Step: [ 500/ 600], Loss: 1.9106\n",
      "Epoch: [ 1/ 5], Step: [ 600/ 600], Loss: 1.8721\n",
      "Epoch: [ 2/ 5], Step: [ 100/ 600], Loss: 1.7263\n",
      "Epoch: [ 2/ 5], Step: [ 200/ 600], Loss: 1.6822\n",
      "Epoch: [ 2/ 5], Step: [ 300/ 600], Loss: 1.6451\n",
      "Epoch: [ 2/ 5], Step: [ 400/ 600], Loss: 1.5523\n",
      "Epoch: [ 2/ 5], Step: [ 500/ 600], Loss: 1.5844\n",
      "Epoch: [ 2/ 5], Step: [ 600/ 600], Loss: 1.4090\n",
      "Epoch: [ 3/ 5], Step: [ 100/ 600], Loss: 1.4494\n",
      "Epoch: [ 3/ 5], Step: [ 200/ 600], Loss: 1.3694\n",
      "Epoch: [ 3/ 5], Step: [ 300/ 600], Loss: 1.3211\n",
      "Epoch: [ 3/ 5], Step: [ 400/ 600], Loss: 1.2879\n",
      "Epoch: [ 3/ 5], Step: [ 500/ 600], Loss: 1.2211\n",
      "Epoch: [ 3/ 5], Step: [ 600/ 600], Loss: 1.2745\n",
      "Epoch: [ 4/ 5], Step: [ 100/ 600], Loss: 1.2562\n",
      "Epoch: [ 4/ 5], Step: [ 200/ 600], Loss: 1.2077\n",
      "Epoch: [ 4/ 5], Step: [ 300/ 600], Loss: 1.2288\n",
      "Epoch: [ 4/ 5], Step: [ 400/ 600], Loss: 1.1808\n",
      "Epoch: [ 4/ 5], Step: [ 500/ 600], Loss: 1.0919\n",
      "Epoch: [ 4/ 5], Step: [ 600/ 600], Loss: 1.1474\n",
      "Epoch: [ 5/ 5], Step: [ 100/ 600], Loss: 1.0082\n",
      "Epoch: [ 5/ 5], Step: [ 200/ 600], Loss: 0.9825\n",
      "Epoch: [ 5/ 5], Step: [ 300/ 600], Loss: 1.1392\n",
      "Epoch: [ 5/ 5], Step: [ 400/ 600], Loss: 0.9870\n",
      "Epoch: [ 5/ 5], Step: [ 500/ 600], Loss: 1.0502\n",
      "Epoch: [ 5/ 5], Step: [ 600/ 600], Loss: 0.9654\n"
     ]
    }
   ],
   "source": [
    "# Training the Model\n",
    "for epoch in range(num_epochs):\n",
    "    for i, (images, labels) in enumerate(train_loader):\n",
    "        images = Variable(images.view(-1, 28 * 28))\n",
    "        labels = Variable(labels)\n",
    "  \n",
    "        # Forward + Backward + Optimize\n",
    "        optimizer.zero_grad()\n",
    "        outputs = model(images)\n",
    "        loss = criterion(outputs, labels)\n",
    "        loss.backward()\n",
    "        optimizer.step()\n",
    "        \n",
    "        if (i + 1) % 100 == 0:\n",
    "            print('Epoch: [% d/% d], Step: [% d/% d], Loss: %.4f'% (epoch + 1, num_epochs, i + 1,\n",
    "                     len(train_dataset) // batch_size, loss.data))\n",
    "  "
   ]
  },
  {
   "cell_type": "code",
   "execution_count": 8,
   "id": "6244f34b",
   "metadata": {},
   "outputs": [
    {
     "name": "stdout",
     "output_type": "stream",
     "text": [
      "Accuracy of the model on the 10000 test images:  83 %\n"
     ]
    }
   ],
   "source": [
    "# Test the Model\n",
    "correct = 0\n",
    "total = 0\n",
    "for images, labels in test_loader:\n",
    "    images = Variable(images.view(-1, 28 * 28))\n",
    "    outputs = model(images)\n",
    "    _, predicted = torch.max(outputs.data, 1)\n",
    "    total += labels.size(0)\n",
    "    correct += (predicted == labels).sum()\n",
    "  \n",
    "print('Accuracy of the model on the 10000 test images: % d %%' % (\n",
    "            100 * correct / total))"
   ]
  },
  {
   "cell_type": "code",
   "execution_count": null,
   "id": "a9fcc264",
   "metadata": {},
   "outputs": [],
   "source": []
  },
  {
   "cell_type": "code",
   "execution_count": null,
   "id": "19bfa8f7",
   "metadata": {},
   "outputs": [],
   "source": []
  },
  {
   "cell_type": "code",
   "execution_count": null,
   "id": "6487d7c5",
   "metadata": {},
   "outputs": [],
   "source": []
  },
  {
   "cell_type": "code",
   "execution_count": null,
   "id": "6296f8f1",
   "metadata": {},
   "outputs": [],
   "source": []
  }
 ],
 "metadata": {
  "kernelspec": {
   "display_name": "Python 3 (ipykernel)",
   "language": "python",
   "name": "python3"
  },
  "language_info": {
   "codemirror_mode": {
    "name": "ipython",
    "version": 3
   },
   "file_extension": ".py",
   "mimetype": "text/x-python",
   "name": "python",
   "nbconvert_exporter": "python",
   "pygments_lexer": "ipython3",
   "version": "3.9.12"
  }
 },
 "nbformat": 4,
 "nbformat_minor": 5
}
