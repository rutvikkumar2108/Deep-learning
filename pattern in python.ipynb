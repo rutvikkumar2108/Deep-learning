{
 "cells": [
  {
   "cell_type": "code",
   "execution_count": 282,
   "id": "f443a31e",
   "metadata": {},
   "outputs": [],
   "source": [
    "def pattern(n):\n",
    "    k= n\n",
    "    for i in range(0,n):\n",
    "        for j in range(0,k):\n",
    "            print(end=' ')\n",
    "        k=k-1\n",
    "        for j in range(0,i+1):\n",
    "            print('* ',end='')\n",
    "        print('\\r')\n",
    "                \n",
    "            \n",
    "        "
   ]
  },
  {
   "cell_type": "code",
   "execution_count": 283,
   "id": "4a8ad0ff",
   "metadata": {},
   "outputs": [
    {
     "name": "stdout",
     "output_type": "stream",
     "text": [
      "     * \r\n",
      "    * * \r\n",
      "   * * * \r\n",
      "  * * * * \r\n",
      " * * * * * \r\n"
     ]
    }
   ],
   "source": [
    "pattern(5)"
   ]
  },
  {
   "cell_type": "code",
   "execution_count": 104,
   "id": "b2beaa41",
   "metadata": {},
   "outputs": [],
   "source": [
    "def pattern_1(n):\n",
    "    k= n \n",
    "    for i in range(0,n):\n",
    "        for j in range(0,i):\n",
    "            print(end=' ')\n",
    "        for j in range(0,n-i):\n",
    "            print('* ',end='')\n",
    "        print('\\r')"
   ]
  },
  {
   "cell_type": "code",
   "execution_count": 105,
   "id": "47be02c9",
   "metadata": {},
   "outputs": [
    {
     "name": "stdout",
     "output_type": "stream",
     "text": [
      "* * * * * \r\n",
      " * * * * \r\n",
      "  * * * \r\n",
      "   * * \r\n",
      "    * \r\n"
     ]
    }
   ],
   "source": [
    "pattern_1(5)"
   ]
  },
  {
   "cell_type": "code",
   "execution_count": 174,
   "id": "d49757fe",
   "metadata": {},
   "outputs": [],
   "source": [
    "def pattern_2(n):\n",
    "    k= n-1\n",
    "    for i in range(0,n):\n",
    "        for j in range(0,k):\n",
    "            print(end=' ')\n",
    "        k=k-1\n",
    "        for j in range(0,i+1):\n",
    "            print('* ',end='')\n",
    "        print('\\r')\n",
    "    for i in range(1,n):\n",
    "            for j in range(0,i):\n",
    "                print(end=' ')\n",
    "            for j in range(0,n-i):\n",
    "                print('* ',end='')\n",
    "            print('\\r')\n",
    "    "
   ]
  },
  {
   "cell_type": "code",
   "execution_count": 175,
   "id": "1c574c28",
   "metadata": {},
   "outputs": [
    {
     "name": "stdout",
     "output_type": "stream",
     "text": [
      "    * \r\n",
      "   * * \r\n",
      "  * * * \r\n",
      " * * * * \r\n",
      "* * * * * \r\n",
      " * * * * \r\n",
      "  * * * \r\n",
      "   * * \r\n",
      "    * \r\n"
     ]
    }
   ],
   "source": [
    "pattern_2(5)"
   ]
  },
  {
   "cell_type": "code",
   "execution_count": 108,
   "id": "b051c7ea",
   "metadata": {},
   "outputs": [],
   "source": [
    "def pattern_3(n):\n",
    "    for i in range(0,n):\n",
    "        for j in range(0,i+1):\n",
    "            print('* ',end='')\n",
    "        print('\\r')"
   ]
  },
  {
   "cell_type": "code",
   "execution_count": 109,
   "id": "8e0ec1bb",
   "metadata": {},
   "outputs": [
    {
     "name": "stdout",
     "output_type": "stream",
     "text": [
      "* \r\n",
      "* * \r\n",
      "* * * \r\n",
      "* * * * \r\n",
      "* * * * * \r\n"
     ]
    }
   ],
   "source": [
    "pattern_3(5)"
   ]
  },
  {
   "cell_type": "code",
   "execution_count": 155,
   "id": "8201e6c4",
   "metadata": {},
   "outputs": [],
   "source": [
    "def pattern_4(n):\n",
    "    k=2*n-2\n",
    "    for i in range(0,n):\n",
    "        for j in range(0,k):\n",
    "            print(end=' ')\n",
    "        k=k-2\n",
    "        for j in range(0,i+1):\n",
    "            print('* ',end='')\n",
    "        print('\\r')\n",
    "            "
   ]
  },
  {
   "cell_type": "code",
   "execution_count": 156,
   "id": "8c9e7054",
   "metadata": {},
   "outputs": [
    {
     "name": "stdout",
     "output_type": "stream",
     "text": [
      "        * \r\n",
      "      * * \r\n",
      "    * * * \r\n",
      "  * * * * \r\n",
      "* * * * * \r\n"
     ]
    }
   ],
   "source": [
    "pattern_4(5)"
   ]
  },
  {
   "cell_type": "code",
   "execution_count": 166,
   "id": "65b0705f",
   "metadata": {},
   "outputs": [],
   "source": [
    "def pattern_5(n):\n",
    "    for i in range(0,n):\n",
    "        for j in range(0,i+1):\n",
    "            print('* ',end='')\n",
    "        print('\\r')\n",
    "    for i in range(1,n):\n",
    "        for j in range(0,n-i):\n",
    "            print('* ',end='')\n",
    "        print('\\r')"
   ]
  },
  {
   "cell_type": "code",
   "execution_count": 167,
   "id": "7a0ebe36",
   "metadata": {},
   "outputs": [
    {
     "name": "stdout",
     "output_type": "stream",
     "text": [
      "* \r\n",
      "* * \r\n",
      "* * * \r\n",
      "* * * * \r\n",
      "* * * * * \r\n",
      "* * * * * * \r\n",
      "* * * * * * * \r\n",
      "* * * * * * * * \r\n",
      "* * * * * * * * * \r\n",
      "* * * * * * * * * * \r\n",
      "* * * * * * * * * \r\n",
      "* * * * * * * * \r\n",
      "* * * * * * * \r\n",
      "* * * * * * \r\n",
      "* * * * * \r\n",
      "* * * * \r\n",
      "* * * \r\n",
      "* * \r\n",
      "* \r\n"
     ]
    }
   ],
   "source": [
    "pattern_5(10)"
   ]
  },
  {
   "cell_type": "code",
   "execution_count": 180,
   "id": "068dbd27",
   "metadata": {},
   "outputs": [
    {
     "name": "stdout",
     "output_type": "stream",
     "text": [
      "  *   \n",
      " *  *  \n",
      "*    * \n",
      " *  *  \n",
      "  *   \n"
     ]
    }
   ],
   "source": [
    "for i in range(5):\n",
    "    for j in range(5):\n",
    "        if i+j==2 or i-j==2 or i+j==6 or j-i==2:\n",
    "            print(\"* \",end=\"\")\n",
    "        else:\n",
    "            print(end=\" \")\n",
    "    print()"
   ]
  },
  {
   "cell_type": "code",
   "execution_count": 199,
   "id": "7ce87b2e",
   "metadata": {},
   "outputs": [],
   "source": [
    "def pattern_6(n):\n",
    "    x=0\n",
    "    for i in range(0,n+1):\n",
    "        for j in range(0,i):\n",
    "            print(x,end=' ')\n",
    "        x+=1\n",
    "        print('\\r')"
   ]
  },
  {
   "cell_type": "code",
   "execution_count": 200,
   "id": "a3bee52a",
   "metadata": {},
   "outputs": [
    {
     "name": "stdout",
     "output_type": "stream",
     "text": [
      "\r\n",
      "1 \r\n",
      "2 2 \r\n",
      "3 3 3 \r\n",
      "4 4 4 4 \r\n",
      "5 5 5 5 5 \r\n"
     ]
    }
   ],
   "source": [
    "pattern_6(5)"
   ]
  },
  {
   "cell_type": "code",
   "execution_count": 207,
   "id": "a86e9d26",
   "metadata": {},
   "outputs": [],
   "source": [
    "def pattern_7(n):\n",
    "    x=1\n",
    "    for i in range(0,n+1):\n",
    "        for j in range(0,n-i):\n",
    "            print(x,end=' ')\n",
    "        x+=1\n",
    "        print('\\r')\n",
    "                "
   ]
  },
  {
   "cell_type": "code",
   "execution_count": 208,
   "id": "8928438d",
   "metadata": {},
   "outputs": [
    {
     "name": "stdout",
     "output_type": "stream",
     "text": [
      "1 1 1 1 1 \r\n",
      "2 2 2 2 \r\n",
      "3 3 3 \r\n",
      "4 4 \r\n",
      "5 \r\n",
      "\r\n"
     ]
    }
   ],
   "source": [
    "pattern_7(5)"
   ]
  },
  {
   "cell_type": "code",
   "execution_count": 215,
   "id": "09195b3b",
   "metadata": {},
   "outputs": [],
   "source": [
    "def pattern_8(n):\n",
    "    x=0\n",
    "    for i in range(0,n+1):\n",
    "        for j in range(0,i):\n",
    "            print(x,end=' ')\n",
    "        x+=1\n",
    "        print('\\r')\n",
    "    x=n-1\n",
    "    for i in range(1,n+1):\n",
    "        for j in range(0,n-i):\n",
    "            print(x,end=' ')\n",
    "        x-=1\n",
    "        print('\\r')\n",
    "    \n",
    "    "
   ]
  },
  {
   "cell_type": "code",
   "execution_count": 216,
   "id": "93b81bef",
   "metadata": {},
   "outputs": [
    {
     "name": "stdout",
     "output_type": "stream",
     "text": [
      "\r\n",
      "1 \r\n",
      "2 2 \r\n",
      "3 3 3 \r\n",
      "4 4 4 4 \r\n",
      "5 5 5 5 5 \r\n",
      "6 6 6 6 6 6 \r\n",
      "7 7 7 7 7 7 7 \r\n",
      "8 8 8 8 8 8 8 8 \r\n",
      "9 9 9 9 9 9 9 9 9 \r\n",
      "8 8 8 8 8 8 8 8 \r\n",
      "7 7 7 7 7 7 7 \r\n",
      "6 6 6 6 6 6 \r\n",
      "5 5 5 5 5 \r\n",
      "4 4 4 4 \r\n",
      "3 3 3 \r\n",
      "2 2 \r\n",
      "1 \r\n",
      "\r\n"
     ]
    }
   ],
   "source": [
    "pattern_8(9)"
   ]
  },
  {
   "cell_type": "code",
   "execution_count": 231,
   "id": "a5331740",
   "metadata": {},
   "outputs": [],
   "source": [
    "def pattern_9(n):\n",
    "    k= n-1\n",
    "    for i in range(0,n):\n",
    "        for j in range(0,k):\n",
    "            print(end=' ')\n",
    "        k=k-1\n",
    "        x=1\n",
    "        for j in range(0,i+1):\n",
    "            print(x,end=' ')\n",
    "            x+=1\n",
    "        print('\\r')\n",
    "    "
   ]
  },
  {
   "cell_type": "code",
   "execution_count": 232,
   "id": "ebebfc75",
   "metadata": {},
   "outputs": [
    {
     "name": "stdout",
     "output_type": "stream",
     "text": [
      "        1 \r\n",
      "       1 2 \r\n",
      "      1 2 3 \r\n",
      "     1 2 3 4 \r\n",
      "    1 2 3 4 5 \r\n",
      "   1 2 3 4 5 6 \r\n",
      "  1 2 3 4 5 6 7 \r\n",
      " 1 2 3 4 5 6 7 8 \r\n",
      "1 2 3 4 5 6 7 8 9 \r\n"
     ]
    }
   ],
   "source": [
    "pattern_9(9)"
   ]
  },
  {
   "cell_type": "code",
   "execution_count": 235,
   "id": "222d03ea",
   "metadata": {},
   "outputs": [],
   "source": [
    "def pattern_10(n):\n",
    "    k= n-1\n",
    "    for i in range(0,n):\n",
    "        for j in range(0,k):\n",
    "            print(end=' ')\n",
    "        k=k-1\n",
    "        x=1\n",
    "        for j in range(0,i+1):\n",
    "            print(x,end=' ')\n",
    "            x+=1\n",
    "        print('\\r')\n",
    "    k=n\n",
    "    for i in range(1,n):\n",
    "        for j in range(0,i):\n",
    "            print(end=' ')\n",
    "        x=1\n",
    "        for j in range(0,n-i):\n",
    "            print(x,end=' ')\n",
    "            x+=1\n",
    "        print('\\r')\n",
    "        "
   ]
  },
  {
   "cell_type": "code",
   "execution_count": 237,
   "id": "3fca38f9",
   "metadata": {},
   "outputs": [
    {
     "name": "stdout",
     "output_type": "stream",
     "text": [
      "        1 \r\n",
      "       1 2 \r\n",
      "      1 2 3 \r\n",
      "     1 2 3 4 \r\n",
      "    1 2 3 4 5 \r\n",
      "   1 2 3 4 5 6 \r\n",
      "  1 2 3 4 5 6 7 \r\n",
      " 1 2 3 4 5 6 7 8 \r\n",
      "1 2 3 4 5 6 7 8 9 \r\n",
      " 1 2 3 4 5 6 7 8 \r\n",
      "  1 2 3 4 5 6 7 \r\n",
      "   1 2 3 4 5 6 \r\n",
      "    1 2 3 4 5 \r\n",
      "     1 2 3 4 \r\n",
      "      1 2 3 \r\n",
      "       1 2 \r\n",
      "        1 \r\n"
     ]
    }
   ],
   "source": [
    "pattern_10(9)"
   ]
  },
  {
   "cell_type": "code",
   "execution_count": 252,
   "id": "8d3e4239",
   "metadata": {},
   "outputs": [],
   "source": [
    "def pattern_11(n):\n",
    "    x=65\n",
    "    for i in range(0,n): \n",
    "        ch=chr(x)\n",
    "        x+=1\n",
    "        for j in range(0,i+1):\n",
    "            print(ch,end=\" \")\n",
    "        print('\\r')"
   ]
  },
  {
   "cell_type": "code",
   "execution_count": 253,
   "id": "c89e4130",
   "metadata": {},
   "outputs": [
    {
     "name": "stdout",
     "output_type": "stream",
     "text": [
      "A \r\n",
      "B B \r\n",
      "C C C \r\n",
      "D D D D \r\n",
      "E E E E E \r\n"
     ]
    }
   ],
   "source": [
    "pattern_11(5)"
   ]
  }
 ],
 "metadata": {
  "kernelspec": {
   "display_name": "Python 3",
   "language": "python",
   "name": "python3"
  },
  "language_info": {
   "codemirror_mode": {
    "name": "ipython",
    "version": 3
   },
   "file_extension": ".py",
   "mimetype": "text/x-python",
   "name": "python",
   "nbconvert_exporter": "python",
   "pygments_lexer": "ipython3",
   "version": "3.8.8"
  }
 },
 "nbformat": 4,
 "nbformat_minor": 5
}
