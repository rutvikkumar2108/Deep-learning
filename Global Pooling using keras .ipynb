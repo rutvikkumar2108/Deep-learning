{
 "cells": [
  {
   "cell_type": "code",
   "execution_count": 1,
   "id": "bcdf4612",
   "metadata": {},
   "outputs": [],
   "source": [
    "import numpy as np\n",
    "from keras.models import Sequential\n",
    "from keras.layers import GlobalMaxPooling2D\n",
    "from keras.layers import GlobalAveragePooling2D"
   ]
  },
  {
   "cell_type": "code",
   "execution_count": 2,
   "id": "25d639d8",
   "metadata": {},
   "outputs": [],
   "source": [
    "# define input image\n",
    "image = np.array([[2, 2, 7, 3],\n",
    "                  [9, 4, 6, 1],\n",
    "                  [8, 5, 2, 4],\n",
    "                  [3, 1, 2, 6]])\n",
    "image = image.reshape(1, 4, 4, 1)"
   ]
  },
  {
   "cell_type": "code",
   "execution_count": 3,
   "id": "b9ca4670",
   "metadata": {},
   "outputs": [],
   "source": [
    "# define gm_model containing just a single global-max pooling layer\n",
    "gm_model = Sequential(\n",
    "    [GlobalMaxPooling2D()])\n",
    "  \n",
    "# define ga_model containing just a single global-average pooling layer\n",
    "ga_model = Sequential(\n",
    "    [GlobalAveragePooling2D()])"
   ]
  },
  {
   "cell_type": "code",
   "execution_count": 4,
   "id": "64eb1e7e",
   "metadata": {},
   "outputs": [
    {
     "name": "stdout",
     "output_type": "stream",
     "text": [
      "1/1 [==============================] - 0s 81ms/step\n",
      "1/1 [==============================] - 0s 45ms/step\n"
     ]
    }
   ],
   "source": [
    "# generate pooled output\n",
    "gm_output = gm_model.predict(image)\n",
    "ga_output = ga_model.predict(image)"
   ]
  },
  {
   "cell_type": "code",
   "execution_count": 5,
   "id": "d25a7bb0",
   "metadata": {},
   "outputs": [
    {
     "name": "stdout",
     "output_type": "stream",
     "text": [
      "gm_output:  9\n",
      "ga_output:  4\n"
     ]
    }
   ],
   "source": [
    "# print output image\n",
    "gm_output = np.squeeze(gm_output)\n",
    "ga_output = np.squeeze(ga_output)\n",
    "print(\"gm_output: \", gm_output)\n",
    "print(\"ga_output: \", ga_output)"
   ]
  },
  {
   "cell_type": "code",
   "execution_count": null,
   "id": "40436ee6",
   "metadata": {},
   "outputs": [],
   "source": []
  },
  {
   "cell_type": "code",
   "execution_count": null,
   "id": "70a0d938",
   "metadata": {},
   "outputs": [],
   "source": []
  }
 ],
 "metadata": {
  "kernelspec": {
   "display_name": "Python 3 (ipykernel)",
   "language": "python",
   "name": "python3"
  },
  "language_info": {
   "codemirror_mode": {
    "name": "ipython",
    "version": 3
   },
   "file_extension": ".py",
   "mimetype": "text/x-python",
   "name": "python",
   "nbconvert_exporter": "python",
   "pygments_lexer": "ipython3",
   "version": "3.9.12"
  }
 },
 "nbformat": 4,
 "nbformat_minor": 5
}
