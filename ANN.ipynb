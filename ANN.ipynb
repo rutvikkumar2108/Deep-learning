{
 "cells": [
  {
   "cell_type": "code",
   "execution_count": 1,
   "id": "17e9c353",
   "metadata": {},
   "outputs": [],
   "source": [
    "# Artificial Neural Network\n",
    "\n",
    "# Part 1 - Data Preprocessing\n",
    "\n",
    "# Importing the libraries\n",
    "import numpy as np\n",
    "import matplotlib.pyplot as plt\n",
    "import pandas as pd"
   ]
  },
  {
   "cell_type": "code",
   "execution_count": 2,
   "id": "5439dba5",
   "metadata": {},
   "outputs": [],
   "source": [
    "# Importing the dataset\n",
    "dataset = pd.read_csv('Churn_Modelling.txt')\n",
    "X = dataset.iloc[:, 3:13]\n",
    "y = dataset.iloc[:, 13]"
   ]
  },
  {
   "cell_type": "code",
   "execution_count": 3,
   "id": "77d9b89b",
   "metadata": {},
   "outputs": [],
   "source": [
    "#Create dummy variables\n",
    "geography=pd.get_dummies(X[\"Geography\"],drop_first=True)\n",
    "gender=pd.get_dummies(X['Gender'],drop_first=True)"
   ]
  },
  {
   "cell_type": "code",
   "execution_count": 4,
   "id": "2829f2a5",
   "metadata": {},
   "outputs": [],
   "source": [
    "## Concatenate the Data Frames\n",
    "\n",
    "X=pd.concat([X,geography,gender],axis=1)"
   ]
  },
  {
   "cell_type": "code",
   "execution_count": 5,
   "id": "7e9ee678",
   "metadata": {},
   "outputs": [],
   "source": [
    "## Drop Unnecessary columns\n",
    "X=X.drop(['Geography','Gender'],axis=1)"
   ]
  },
  {
   "cell_type": "code",
   "execution_count": 6,
   "id": "88e278c1",
   "metadata": {},
   "outputs": [],
   "source": [
    "# Splitting the dataset into the Training set and Test set\n",
    "from sklearn.model_selection import train_test_split\n",
    "X_train, X_test, y_train, y_test = train_test_split(X, y, test_size = 0.2, random_state = 0)"
   ]
  },
  {
   "cell_type": "code",
   "execution_count": 7,
   "id": "61baf2d0",
   "metadata": {},
   "outputs": [],
   "source": [
    "# Feature Scaling\n",
    "from sklearn.preprocessing import StandardScaler\n",
    "sc = StandardScaler()\n",
    "X_train = sc.fit_transform(X_train)\n",
    "X_test = sc.transform(X_test)"
   ]
  },
  {
   "cell_type": "code",
   "execution_count": 8,
   "id": "89b27849",
   "metadata": {},
   "outputs": [],
   "source": [
    "# Part 2 - Now let's make the ANN!\n",
    "\n",
    "# Importing the Keras libraries and packages\n",
    "import keras\n",
    "from keras.models import Sequential\n",
    "from keras.layers import Dense\n",
    "from keras.layers import LeakyReLU,PReLU,ELU\n",
    "from keras.layers import Dropout"
   ]
  },
  {
   "cell_type": "code",
   "execution_count": 9,
   "id": "8280c5dc",
   "metadata": {},
   "outputs": [],
   "source": [
    "# Initialising the ANN\n",
    "classifier = Sequential()"
   ]
  },
  {
   "cell_type": "code",
   "execution_count": 10,
   "id": "39adea38",
   "metadata": {},
   "outputs": [
    {
     "name": "stdout",
     "output_type": "stream",
     "text": [
      "Epoch 1/100\n",
      "536/536 [==============================] - 4s 4ms/step - loss: 0.7296 - accuracy: 0.5798 - val_loss: 0.5861 - val_accuracy: 0.7505\n",
      "Epoch 2/100\n",
      "536/536 [==============================] - 2s 4ms/step - loss: 0.5439 - accuracy: 0.7858 - val_loss: 0.5210 - val_accuracy: 0.7929\n",
      "Epoch 3/100\n",
      "536/536 [==============================] - 2s 4ms/step - loss: 0.5103 - accuracy: 0.7960 - val_loss: 0.5048 - val_accuracy: 0.7948\n",
      "Epoch 4/100\n",
      "536/536 [==============================] - 2s 4ms/step - loss: 0.4963 - accuracy: 0.7968 - val_loss: 0.4922 - val_accuracy: 0.7948\n",
      "Epoch 5/100\n",
      "536/536 [==============================] - 2s 4ms/step - loss: 0.4857 - accuracy: 0.7983 - val_loss: 0.4828 - val_accuracy: 0.7952\n",
      "Epoch 6/100\n",
      "536/536 [==============================] - 2s 4ms/step - loss: 0.4770 - accuracy: 0.8000 - val_loss: 0.4749 - val_accuracy: 0.7993\n",
      "Epoch 7/100\n",
      "536/536 [==============================] - 2s 4ms/step - loss: 0.4697 - accuracy: 0.8020 - val_loss: 0.4692 - val_accuracy: 0.8001\n",
      "Epoch 8/100\n",
      "536/536 [==============================] - 2s 4ms/step - loss: 0.4638 - accuracy: 0.8041 - val_loss: 0.4645 - val_accuracy: 0.8031\n",
      "Epoch 9/100\n",
      "536/536 [==============================] - 2s 4ms/step - loss: 0.4589 - accuracy: 0.8065 - val_loss: 0.4609 - val_accuracy: 0.8027\n",
      "Epoch 10/100\n",
      "536/536 [==============================] - 2s 5ms/step - loss: 0.4544 - accuracy: 0.8067 - val_loss: 0.4575 - val_accuracy: 0.8042\n",
      "Epoch 11/100\n",
      "536/536 [==============================] - 2s 4ms/step - loss: 0.4499 - accuracy: 0.8091 - val_loss: 0.4546 - val_accuracy: 0.8061\n",
      "Epoch 12/100\n",
      "536/536 [==============================] - 2s 3ms/step - loss: 0.4458 - accuracy: 0.8087 - val_loss: 0.4517 - val_accuracy: 0.8035\n",
      "Epoch 13/100\n",
      "536/536 [==============================] - 2s 4ms/step - loss: 0.4418 - accuracy: 0.8095 - val_loss: 0.4486 - val_accuracy: 0.8042\n",
      "Epoch 14/100\n",
      "536/536 [==============================] - 2s 4ms/step - loss: 0.4376 - accuracy: 0.8110 - val_loss: 0.4456 - val_accuracy: 0.8031\n",
      "Epoch 15/100\n",
      "536/536 [==============================] - 2s 4ms/step - loss: 0.4337 - accuracy: 0.8119 - val_loss: 0.4429 - val_accuracy: 0.8046\n",
      "Epoch 16/100\n",
      "536/536 [==============================] - 2s 4ms/step - loss: 0.4299 - accuracy: 0.8138 - val_loss: 0.4399 - val_accuracy: 0.8039\n",
      "Epoch 17/100\n",
      "536/536 [==============================] - 2s 4ms/step - loss: 0.4264 - accuracy: 0.8132 - val_loss: 0.4370 - val_accuracy: 0.8039\n",
      "Epoch 18/100\n",
      "536/536 [==============================] - 2s 4ms/step - loss: 0.4232 - accuracy: 0.8155 - val_loss: 0.4341 - val_accuracy: 0.8039\n",
      "Epoch 19/100\n",
      "536/536 [==============================] - 2s 4ms/step - loss: 0.4196 - accuracy: 0.8162 - val_loss: 0.4308 - val_accuracy: 0.8080\n",
      "Epoch 20/100\n",
      "536/536 [==============================] - 2s 4ms/step - loss: 0.4161 - accuracy: 0.8169 - val_loss: 0.4273 - val_accuracy: 0.8118\n",
      "Epoch 21/100\n",
      "536/536 [==============================] - 2s 4ms/step - loss: 0.4125 - accuracy: 0.8188 - val_loss: 0.4240 - val_accuracy: 0.8118\n",
      "Epoch 22/100\n",
      "536/536 [==============================] - 2s 4ms/step - loss: 0.4088 - accuracy: 0.8209 - val_loss: 0.4205 - val_accuracy: 0.8145\n",
      "Epoch 23/100\n",
      "536/536 [==============================] - 2s 4ms/step - loss: 0.4047 - accuracy: 0.8255 - val_loss: 0.4167 - val_accuracy: 0.8194\n",
      "Epoch 24/100\n",
      "536/536 [==============================] - 2s 4ms/step - loss: 0.4003 - accuracy: 0.8281 - val_loss: 0.4127 - val_accuracy: 0.8220\n",
      "Epoch 25/100\n",
      "536/536 [==============================] - 2s 4ms/step - loss: 0.3956 - accuracy: 0.8319 - val_loss: 0.4085 - val_accuracy: 0.8217\n",
      "Epoch 26/100\n",
      "536/536 [==============================] - 2s 4ms/step - loss: 0.3912 - accuracy: 0.8356 - val_loss: 0.4047 - val_accuracy: 0.8247\n",
      "Epoch 27/100\n",
      "536/536 [==============================] - 2s 4ms/step - loss: 0.3872 - accuracy: 0.8365 - val_loss: 0.4014 - val_accuracy: 0.8270\n",
      "Epoch 28/100\n",
      "536/536 [==============================] - 2s 4ms/step - loss: 0.3836 - accuracy: 0.8364 - val_loss: 0.3982 - val_accuracy: 0.8281\n",
      "Epoch 29/100\n",
      "536/536 [==============================] - 2s 4ms/step - loss: 0.3805 - accuracy: 0.8395 - val_loss: 0.3955 - val_accuracy: 0.8296\n",
      "Epoch 30/100\n",
      "536/536 [==============================] - 2s 4ms/step - loss: 0.3774 - accuracy: 0.8399 - val_loss: 0.3931 - val_accuracy: 0.8319\n",
      "Epoch 31/100\n",
      "536/536 [==============================] - 2s 4ms/step - loss: 0.3748 - accuracy: 0.8418 - val_loss: 0.3909 - val_accuracy: 0.8319\n",
      "Epoch 32/100\n",
      "536/536 [==============================] - 2s 4ms/step - loss: 0.3724 - accuracy: 0.8434 - val_loss: 0.3891 - val_accuracy: 0.8349\n",
      "Epoch 33/100\n",
      "536/536 [==============================] - 2s 4ms/step - loss: 0.3703 - accuracy: 0.8444 - val_loss: 0.3876 - val_accuracy: 0.8372\n",
      "Epoch 34/100\n",
      "536/536 [==============================] - 2s 4ms/step - loss: 0.3686 - accuracy: 0.8455 - val_loss: 0.3861 - val_accuracy: 0.8387\n",
      "Epoch 35/100\n",
      "536/536 [==============================] - 2s 4ms/step - loss: 0.3668 - accuracy: 0.8466 - val_loss: 0.3849 - val_accuracy: 0.8379\n",
      "Epoch 36/100\n",
      "536/536 [==============================] - 2s 4ms/step - loss: 0.3653 - accuracy: 0.8470 - val_loss: 0.3840 - val_accuracy: 0.8383\n",
      "Epoch 37/100\n",
      "536/536 [==============================] - 2s 4ms/step - loss: 0.3640 - accuracy: 0.8483 - val_loss: 0.3832 - val_accuracy: 0.8383\n",
      "Epoch 38/100\n",
      "536/536 [==============================] - 2s 4ms/step - loss: 0.3628 - accuracy: 0.8479 - val_loss: 0.3825 - val_accuracy: 0.8383\n",
      "Epoch 39/100\n",
      "536/536 [==============================] - 2s 4ms/step - loss: 0.3618 - accuracy: 0.8490 - val_loss: 0.3817 - val_accuracy: 0.8391\n",
      "Epoch 40/100\n",
      "536/536 [==============================] - 2s 4ms/step - loss: 0.3607 - accuracy: 0.8492 - val_loss: 0.3810 - val_accuracy: 0.8391\n",
      "Epoch 41/100\n",
      "536/536 [==============================] - 2s 4ms/step - loss: 0.3596 - accuracy: 0.8507 - val_loss: 0.3805 - val_accuracy: 0.8395\n",
      "Epoch 42/100\n",
      "536/536 [==============================] - 2s 3ms/step - loss: 0.3587 - accuracy: 0.8511 - val_loss: 0.3798 - val_accuracy: 0.8395\n",
      "Epoch 43/100\n",
      "536/536 [==============================] - 2s 3ms/step - loss: 0.3578 - accuracy: 0.8503 - val_loss: 0.3794 - val_accuracy: 0.8391\n",
      "Epoch 44/100\n",
      "536/536 [==============================] - 2s 4ms/step - loss: 0.3570 - accuracy: 0.8503 - val_loss: 0.3790 - val_accuracy: 0.8410\n",
      "Epoch 45/100\n",
      "536/536 [==============================] - 2s 3ms/step - loss: 0.3563 - accuracy: 0.8517 - val_loss: 0.3786 - val_accuracy: 0.8406\n",
      "Epoch 46/100\n",
      "536/536 [==============================] - 2s 3ms/step - loss: 0.3555 - accuracy: 0.8524 - val_loss: 0.3783 - val_accuracy: 0.8410\n",
      "Epoch 47/100\n",
      "536/536 [==============================] - 2s 4ms/step - loss: 0.3549 - accuracy: 0.8515 - val_loss: 0.3780 - val_accuracy: 0.8413\n",
      "Epoch 48/100\n",
      "536/536 [==============================] - 2s 4ms/step - loss: 0.3542 - accuracy: 0.8533 - val_loss: 0.3775 - val_accuracy: 0.8410\n",
      "Epoch 49/100\n",
      "536/536 [==============================] - 2s 3ms/step - loss: 0.3536 - accuracy: 0.8535 - val_loss: 0.3772 - val_accuracy: 0.8413\n",
      "Epoch 50/100\n",
      "536/536 [==============================] - 2s 4ms/step - loss: 0.3531 - accuracy: 0.8543 - val_loss: 0.3769 - val_accuracy: 0.8421\n",
      "Epoch 51/100\n",
      "536/536 [==============================] - 2s 3ms/step - loss: 0.3524 - accuracy: 0.8531 - val_loss: 0.3765 - val_accuracy: 0.8417\n",
      "Epoch 52/100\n",
      "536/536 [==============================] - 2s 4ms/step - loss: 0.3519 - accuracy: 0.8548 - val_loss: 0.3762 - val_accuracy: 0.8440\n",
      "Epoch 53/100\n",
      "536/536 [==============================] - 2s 5ms/step - loss: 0.3513 - accuracy: 0.8548 - val_loss: 0.3759 - val_accuracy: 0.8444\n",
      "Epoch 54/100\n",
      "536/536 [==============================] - 2s 4ms/step - loss: 0.3507 - accuracy: 0.8546 - val_loss: 0.3757 - val_accuracy: 0.8455\n",
      "Epoch 55/100\n",
      "536/536 [==============================] - 2s 4ms/step - loss: 0.3501 - accuracy: 0.8554 - val_loss: 0.3753 - val_accuracy: 0.8448\n",
      "Epoch 56/100\n",
      "536/536 [==============================] - 2s 4ms/step - loss: 0.3495 - accuracy: 0.8550 - val_loss: 0.3749 - val_accuracy: 0.8436\n",
      "Epoch 57/100\n",
      "536/536 [==============================] - 2s 3ms/step - loss: 0.3491 - accuracy: 0.8550 - val_loss: 0.3746 - val_accuracy: 0.8455\n"
     ]
    },
    {
     "name": "stdout",
     "output_type": "stream",
     "text": [
      "Epoch 58/100\n",
      "536/536 [==============================] - 2s 4ms/step - loss: 0.3486 - accuracy: 0.8554 - val_loss: 0.3743 - val_accuracy: 0.8451\n",
      "Epoch 59/100\n",
      "536/536 [==============================] - 2s 3ms/step - loss: 0.3481 - accuracy: 0.8545 - val_loss: 0.3740 - val_accuracy: 0.8455\n",
      "Epoch 60/100\n",
      "536/536 [==============================] - 2s 3ms/step - loss: 0.3476 - accuracy: 0.8571 - val_loss: 0.3737 - val_accuracy: 0.8459\n",
      "Epoch 61/100\n",
      "536/536 [==============================] - 2s 3ms/step - loss: 0.3471 - accuracy: 0.8561 - val_loss: 0.3735 - val_accuracy: 0.8451\n",
      "Epoch 62/100\n",
      "536/536 [==============================] - 2s 3ms/step - loss: 0.3466 - accuracy: 0.8552 - val_loss: 0.3730 - val_accuracy: 0.8478\n",
      "Epoch 63/100\n",
      "536/536 [==============================] - 2s 3ms/step - loss: 0.3463 - accuracy: 0.8569 - val_loss: 0.3728 - val_accuracy: 0.8463\n",
      "Epoch 64/100\n",
      "536/536 [==============================] - 2s 3ms/step - loss: 0.3458 - accuracy: 0.8567 - val_loss: 0.3724 - val_accuracy: 0.8474\n",
      "Epoch 65/100\n",
      "536/536 [==============================] - 2s 3ms/step - loss: 0.3454 - accuracy: 0.8578 - val_loss: 0.3722 - val_accuracy: 0.8489\n",
      "Epoch 66/100\n",
      "536/536 [==============================] - 2s 3ms/step - loss: 0.3452 - accuracy: 0.8578 - val_loss: 0.3721 - val_accuracy: 0.8482\n",
      "Epoch 67/100\n",
      "536/536 [==============================] - 2s 3ms/step - loss: 0.3447 - accuracy: 0.8591 - val_loss: 0.3718 - val_accuracy: 0.8497\n",
      "Epoch 68/100\n",
      "536/536 [==============================] - 2s 4ms/step - loss: 0.3444 - accuracy: 0.8572 - val_loss: 0.3716 - val_accuracy: 0.8501\n",
      "Epoch 69/100\n",
      "536/536 [==============================] - 2s 4ms/step - loss: 0.3442 - accuracy: 0.8576 - val_loss: 0.3714 - val_accuracy: 0.8504\n",
      "Epoch 70/100\n",
      "536/536 [==============================] - 2s 4ms/step - loss: 0.3437 - accuracy: 0.8584 - val_loss: 0.3712 - val_accuracy: 0.8493\n",
      "Epoch 71/100\n",
      "536/536 [==============================] - 2s 4ms/step - loss: 0.3436 - accuracy: 0.8586 - val_loss: 0.3710 - val_accuracy: 0.8489\n",
      "Epoch 72/100\n",
      "536/536 [==============================] - 2s 4ms/step - loss: 0.3432 - accuracy: 0.8589 - val_loss: 0.3709 - val_accuracy: 0.8489\n",
      "Epoch 73/100\n",
      "536/536 [==============================] - 2s 4ms/step - loss: 0.3428 - accuracy: 0.8589 - val_loss: 0.3707 - val_accuracy: 0.8497\n",
      "Epoch 74/100\n",
      "536/536 [==============================] - 2s 4ms/step - loss: 0.3425 - accuracy: 0.8597 - val_loss: 0.3705 - val_accuracy: 0.8497\n",
      "Epoch 75/100\n",
      "536/536 [==============================] - 2s 4ms/step - loss: 0.3421 - accuracy: 0.8587 - val_loss: 0.3703 - val_accuracy: 0.8485\n",
      "Epoch 76/100\n",
      "536/536 [==============================] - 2s 4ms/step - loss: 0.3419 - accuracy: 0.8593 - val_loss: 0.3701 - val_accuracy: 0.8508\n",
      "Epoch 77/100\n",
      "536/536 [==============================] - 2s 4ms/step - loss: 0.3415 - accuracy: 0.8597 - val_loss: 0.3699 - val_accuracy: 0.8497\n",
      "Epoch 78/100\n",
      "536/536 [==============================] - 2s 4ms/step - loss: 0.3411 - accuracy: 0.8591 - val_loss: 0.3697 - val_accuracy: 0.8485\n",
      "Epoch 79/100\n",
      "536/536 [==============================] - 2s 4ms/step - loss: 0.3409 - accuracy: 0.8608 - val_loss: 0.3696 - val_accuracy: 0.8497\n",
      "Epoch 80/100\n",
      "536/536 [==============================] - 2s 4ms/step - loss: 0.3407 - accuracy: 0.8608 - val_loss: 0.3695 - val_accuracy: 0.8504\n",
      "Epoch 81/100\n",
      "536/536 [==============================] - 2s 4ms/step - loss: 0.3403 - accuracy: 0.8589 - val_loss: 0.3691 - val_accuracy: 0.8485\n",
      "Epoch 82/100\n",
      "536/536 [==============================] - 2s 4ms/step - loss: 0.3403 - accuracy: 0.8599 - val_loss: 0.3689 - val_accuracy: 0.8493\n",
      "Epoch 83/100\n",
      "536/536 [==============================] - 2s 4ms/step - loss: 0.3399 - accuracy: 0.8600 - val_loss: 0.3687 - val_accuracy: 0.8527\n",
      "Epoch 84/100\n",
      "536/536 [==============================] - 2s 4ms/step - loss: 0.3395 - accuracy: 0.8608 - val_loss: 0.3684 - val_accuracy: 0.8501\n",
      "Epoch 85/100\n",
      "536/536 [==============================] - 2s 4ms/step - loss: 0.3394 - accuracy: 0.8602 - val_loss: 0.3681 - val_accuracy: 0.8501\n",
      "Epoch 86/100\n",
      "536/536 [==============================] - 2s 4ms/step - loss: 0.3392 - accuracy: 0.8604 - val_loss: 0.3680 - val_accuracy: 0.8504\n",
      "Epoch 87/100\n",
      "536/536 [==============================] - 2s 4ms/step - loss: 0.3390 - accuracy: 0.8610 - val_loss: 0.3678 - val_accuracy: 0.8493\n",
      "Epoch 88/100\n",
      "536/536 [==============================] - 2s 4ms/step - loss: 0.3385 - accuracy: 0.8623 - val_loss: 0.3683 - val_accuracy: 0.8501\n",
      "Epoch 89/100\n",
      "536/536 [==============================] - 2s 4ms/step - loss: 0.3385 - accuracy: 0.8600 - val_loss: 0.3676 - val_accuracy: 0.8497\n",
      "Epoch 90/100\n",
      "536/536 [==============================] - 2s 4ms/step - loss: 0.3383 - accuracy: 0.8617 - val_loss: 0.3673 - val_accuracy: 0.8493\n",
      "Epoch 91/100\n",
      "536/536 [==============================] - 2s 4ms/step - loss: 0.3381 - accuracy: 0.8606 - val_loss: 0.3673 - val_accuracy: 0.8489\n",
      "Epoch 92/100\n",
      "536/536 [==============================] - 2s 4ms/step - loss: 0.3379 - accuracy: 0.8606 - val_loss: 0.3671 - val_accuracy: 0.8493\n",
      "Epoch 93/100\n",
      "536/536 [==============================] - 2s 4ms/step - loss: 0.3377 - accuracy: 0.8606 - val_loss: 0.3669 - val_accuracy: 0.8497\n",
      "Epoch 94/100\n",
      "536/536 [==============================] - 2s 4ms/step - loss: 0.3373 - accuracy: 0.8610 - val_loss: 0.3668 - val_accuracy: 0.8519\n",
      "Epoch 95/100\n",
      "536/536 [==============================] - 2s 4ms/step - loss: 0.3370 - accuracy: 0.8621 - val_loss: 0.3670 - val_accuracy: 0.8508\n",
      "Epoch 96/100\n",
      "536/536 [==============================] - 2s 4ms/step - loss: 0.3370 - accuracy: 0.8608 - val_loss: 0.3665 - val_accuracy: 0.8523\n",
      "Epoch 97/100\n",
      "536/536 [==============================] - 2s 4ms/step - loss: 0.3367 - accuracy: 0.8612 - val_loss: 0.3664 - val_accuracy: 0.8519\n",
      "Epoch 98/100\n",
      "536/536 [==============================] - 2s 4ms/step - loss: 0.3365 - accuracy: 0.8619 - val_loss: 0.3660 - val_accuracy: 0.8508\n",
      "Epoch 99/100\n",
      "536/536 [==============================] - 2s 4ms/step - loss: 0.3362 - accuracy: 0.8606 - val_loss: 0.3658 - val_accuracy: 0.8504\n",
      "Epoch 100/100\n",
      "536/536 [==============================] - 2s 4ms/step - loss: 0.3360 - accuracy: 0.8625 - val_loss: 0.3654 - val_accuracy: 0.8508\n"
     ]
    }
   ],
   "source": [
    "# Adding the input layer and the first hidden layer\n",
    "classifier.add(Dense(units = 6,kernel_initializer= 'he_uniform',activation='relu',input_dim = 11))\n",
    "\n",
    "# Adding the second hidden layer\n",
    "classifier.add(Dense(units = 6, kernel_initializer= 'he_uniform',activation='relu'))\n",
    "# Adding the output layer\n",
    "classifier.add(Dense(units = 1, kernel_initializer= 'glorot_uniform', activation = 'sigmoid'))\n",
    "\n",
    "# Compiling the ANN\n",
    "classifier.compile(optimizer = 'Adamax', loss = 'binary_crossentropy', metrics = ['accuracy'])\n",
    "\n",
    "# Fitting the ANN to the Training set\n",
    "model_history=classifier.fit(X_train, y_train,validation_split=0.33, batch_size = 10,epochs = 100)"
   ]
  },
  {
   "cell_type": "code",
   "execution_count": 11,
   "id": "cbb474b4",
   "metadata": {},
   "outputs": [
    {
     "name": "stdout",
     "output_type": "stream",
     "text": [
      "63/63 [==============================] - 0s 2ms/step\n"
     ]
    }
   ],
   "source": [
    "# Part 3 - Making the predictions and evaluating the model\n",
    "\n",
    "# Predicting the Test set results\n",
    "y_pred = classifier.predict(X_test)\n",
    "y_pred = (y_pred > 0.5)"
   ]
  },
  {
   "cell_type": "code",
   "execution_count": 12,
   "id": "24da3733",
   "metadata": {},
   "outputs": [],
   "source": [
    "# Making the Confusion Matrix\n",
    "from sklearn.metrics import confusion_matrix\n",
    "cm = confusion_matrix(y_test, y_pred)\n"
   ]
  },
  {
   "cell_type": "code",
   "execution_count": 13,
   "id": "7e936d0d",
   "metadata": {},
   "outputs": [
    {
     "data": {
      "text/plain": [
       "array([[1510,   85],\n",
       "       [ 206,  199]], dtype=int64)"
      ]
     },
     "execution_count": 13,
     "metadata": {},
     "output_type": "execute_result"
    }
   ],
   "source": [
    "cm"
   ]
  },
  {
   "cell_type": "code",
   "execution_count": 14,
   "id": "f20b6955",
   "metadata": {},
   "outputs": [],
   "source": [
    "# Calculate the Accuracy\n",
    "from sklearn.metrics import accuracy_score\n",
    "score=accuracy_score(y_pred,y_test)"
   ]
  },
  {
   "cell_type": "code",
   "execution_count": 15,
   "id": "f96a4800",
   "metadata": {},
   "outputs": [
    {
     "data": {
      "text/plain": [
       "0.8545"
      ]
     },
     "execution_count": 15,
     "metadata": {},
     "output_type": "execute_result"
    }
   ],
   "source": [
    "score"
   ]
  },
  {
   "cell_type": "code",
   "execution_count": null,
   "id": "08621065",
   "metadata": {},
   "outputs": [],
   "source": []
  }
 ],
 "metadata": {
  "kernelspec": {
   "display_name": "Python 3 (ipykernel)",
   "language": "python",
   "name": "python3"
  },
  "language_info": {
   "codemirror_mode": {
    "name": "ipython",
    "version": 3
   },
   "file_extension": ".py",
   "mimetype": "text/x-python",
   "name": "python",
   "nbconvert_exporter": "python",
   "pygments_lexer": "ipython3",
   "version": "3.9.12"
  }
 },
 "nbformat": 4,
 "nbformat_minor": 5
}
