{
 "cells": [
  {
   "cell_type": "code",
   "execution_count": 15,
   "id": "9c6bdcca",
   "metadata": {},
   "outputs": [],
   "source": [
    "import cv2"
   ]
  },
  {
   "cell_type": "code",
   "execution_count": null,
   "id": "f424eecc",
   "metadata": {},
   "outputs": [],
   "source": [
    "df=pd.read_csv(\"automobile.csv\",)"
   ]
  },
  {
   "cell_type": "code",
   "execution_count": 16,
   "id": "e5ad2085",
   "metadata": {},
   "outputs": [],
   "source": [
    "img=cv2.imread('20149df0-4f44-4013-b388-2fe858c06a93.jpg',1)"
   ]
  },
  {
   "cell_type": "code",
   "execution_count": 3,
   "id": "b070e755",
   "metadata": {},
   "outputs": [
    {
     "name": "stdout",
     "output_type": "stream",
     "text": [
      "[[[58 54 53]\n",
      "  [58 54 53]\n",
      "  [58 54 53]\n",
      "  ...\n",
      "  [58 54 53]\n",
      "  [58 54 53]\n",
      "  [58 54 53]]\n",
      "\n",
      " [[58 54 53]\n",
      "  [58 54 53]\n",
      "  [58 54 53]\n",
      "  ...\n",
      "  [58 54 53]\n",
      "  [58 54 53]\n",
      "  [58 54 53]]\n",
      "\n",
      " [[58 54 53]\n",
      "  [58 54 53]\n",
      "  [58 54 53]\n",
      "  ...\n",
      "  [58 54 53]\n",
      "  [58 54 53]\n",
      "  [58 54 53]]\n",
      "\n",
      " ...\n",
      "\n",
      " [[ 0  0  0]\n",
      "  [ 0  0  0]\n",
      "  [ 0  0  0]\n",
      "  ...\n",
      "  [ 0  0  0]\n",
      "  [ 0  0  0]\n",
      "  [ 0  0  0]]\n",
      "\n",
      " [[ 0  0  0]\n",
      "  [ 0  0  0]\n",
      "  [ 0  0  0]\n",
      "  ...\n",
      "  [ 0  0  0]\n",
      "  [ 0  0  0]\n",
      "  [ 0  0  0]]\n",
      "\n",
      " [[ 0  0  0]\n",
      "  [ 0  0  0]\n",
      "  [ 0  0  0]\n",
      "  ...\n",
      "  [ 0  0  0]\n",
      "  [ 0  0  0]\n",
      "  [ 0  0  0]]]\n",
      "(1200, 540, 3)\n"
     ]
    }
   ],
   "source": [
    "print(img)\n",
    "print(img.shape)"
   ]
  },
  {
   "cell_type": "code",
   "execution_count": 17,
   "id": "0a841b2d",
   "metadata": {},
   "outputs": [],
   "source": [
    "cv2.imshow('legend_1',img)\n",
    "cv2.waitKey(0)\n",
    "cv2.destroyAllWindows()"
   ]
  },
  {
   "cell_type": "code",
   "execution_count": 18,
   "id": "db0ca2d4",
   "metadata": {},
   "outputs": [],
   "source": [
    "resized=cv2.resize(img,(600,600))\n",
    "cv2.imshow('legend_2',resized)\n",
    "cv2.waitKey(0)\n",
    "cv2.destroyAllWindows()\n"
   ]
  },
  {
   "cell_type": "code",
   "execution_count": 19,
   "id": "123d1f2c",
   "metadata": {},
   "outputs": [],
   "source": [
    "resized_1=cv2.resize(img,(int(img.shape[1]/2),int(img.shape[2]/2)))\n",
    "cv2.imshow('legend_3',resized_1)\n",
    "cv2.waitKey(0)\n",
    "cv2.destroyAllWindows()"
   ]
  },
  {
   "cell_type": "markdown",
   "id": "99f17b26",
   "metadata": {},
   "source": [
    "# Face detection"
   ]
  },
  {
   "cell_type": "code",
   "execution_count": 20,
   "id": "f14f521a",
   "metadata": {},
   "outputs": [],
   "source": [
    "face_cascade = cv2.CascadeClassifier(cv2.data.haarcascades + 'haarcascade_frontalface_default.xml')"
   ]
  },
  {
   "cell_type": "code",
   "execution_count": 21,
   "id": "feb047d9",
   "metadata": {},
   "outputs": [],
   "source": [
    "img_1=cv2.imread('WhatsApp Image 2022-02-13 at 12.25.15 PM.jpeg')"
   ]
  },
  {
   "cell_type": "code",
   "execution_count": 22,
   "id": "a5d70ead",
   "metadata": {},
   "outputs": [],
   "source": [
    "gray_img= cv2.cvtColor(img_1,cv2.COLOR_BGR2GRAY)"
   ]
  },
  {
   "cell_type": "code",
   "execution_count": 23,
   "id": "e3ce96a8",
   "metadata": {},
   "outputs": [],
   "source": [
    "faces= face_cascade.detectMultiScale(gray_img, scaleFactor= 1.05, minNeighbors=5)"
   ]
  },
  {
   "cell_type": "code",
   "execution_count": 24,
   "id": "bf80e083",
   "metadata": {},
   "outputs": [
    {
     "name": "stdout",
     "output_type": "stream",
     "text": [
      "<class 'numpy.ndarray'>\n",
      "[[394 159 392 392]\n",
      " [384  54  90  90]]\n"
     ]
    }
   ],
   "source": [
    "print(type(faces))\n",
    "print(faces)"
   ]
  },
  {
   "cell_type": "code",
   "execution_count": 25,
   "id": "554b5b05",
   "metadata": {},
   "outputs": [],
   "source": [
    "for (x, y, w, h) in faces:\n",
    "    cv2.rectangle(img_1, (x, y), (x+w, y+h), (0,255, 0), 3)\n",
    "resized= cv2.resize(img_1,(int(img_1.shape[1]),int(img_1.shape[0])))\n",
    "cv2.imshow('Gray',resized)\n",
    "cv2.waitKey(0)\n",
    "cv2.destroyAllWindows()"
   ]
  },
  {
   "cell_type": "code",
   "execution_count": 26,
   "id": "99aeebeb",
   "metadata": {},
   "outputs": [],
   "source": [
    "import numpy as np\n",
    "import cv2\n",
    "\n",
    "face_cascade = cv2.CascadeClassifier(cv2.data.haarcascades + 'haarcascade_frontalface_default.xml')\n",
    "eye_cascade = cv2.CascadeClassifier(cv2.data.haarcascades + 'haarcascade_eye.xml')\n",
    "\n",
    "img = cv2.imread('test_img')\n",
    "\n",
    "gray = cv2.cvtColor(img, cv2.COLOR_BGR2GRAY)\n",
    "\n",
    "faces = face_cascade.detectMultiScale(gray, 1.3, 5)\n",
    "#faces = face_cascade.detectMultiScale(gray)\n",
    "\n",
    "for (x,y,w,h) in faces:\n",
    "    cv2.rectangle(img,(x,y),(x+w,y+h),(255,0,0),2)\n",
    "    roi_gray = gray[y:y+h, x:x+w]\n",
    "    roi_color = img[y:y+h, x:x+w]\n",
    "    eyes = eye_cascade.detectMultiScale(roi_gray)\n",
    "    for (ex,ey,ew,eh) in eyes:\n",
    "        cv2.rectangle(roi_color,(ex,ey),(ex+ew,ey+eh),(0,255,0),2)\n",
    "\n",
    "cv2.imshow('img',img)\n",
    "\n",
    "k = cv2.waitKey(0)\n",
    "if k == 27:         # wait for ESC key to exit\n",
    "    cv2.destroyAllWindows()\n",
    "elif k == ord('s'): # wait for 's' key to save and exit\n",
    "    cv2.imwrite('messigray.png',img)\n",
    "    cv2.destroyAllWindows()"
   ]
  },
  {
   "cell_type": "code",
   "execution_count": null,
   "id": "a79d5165",
   "metadata": {},
   "outputs": [],
   "source": []
  }
 ],
 "metadata": {
  "kernelspec": {
   "display_name": "Python 3",
   "language": "python",
   "name": "python3"
  },
  "language_info": {
   "codemirror_mode": {
    "name": "ipython",
    "version": 3
   },
   "file_extension": ".py",
   "mimetype": "text/x-python",
   "name": "python",
   "nbconvert_exporter": "python",
   "pygments_lexer": "ipython3",
   "version": "3.8.8"
  }
 },
 "nbformat": 4,
 "nbformat_minor": 5
}
